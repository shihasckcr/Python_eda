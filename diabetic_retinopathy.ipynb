{
 "cells": [
  {
   "cell_type": "code",
   "execution_count": 4,
   "id": "aa4e0b0f-9b6d-424f-aed2-225ee7228c89",
   "metadata": {},
   "outputs": [],
   "source": [
    "#-- IMPORT LIBRARIES --#\n",
    "import os\n",
    "import numpy as np\n",
    "import matplotlib.pyplot as plt\n",
    "import tensorflow as tf\n",
    "from tensorflow.keras import layers, models\n",
    "from tensorflow.keras.preprocessing.image import ImageDataGenerator\n",
    "from sklearn.model_selection import train_test_split\n",
    "from PIL import Image"
   ]
  },
  {
   "cell_type": "code",
   "execution_count": 3,
   "id": "d0a3c34f-91d3-4000-8cd0-386bd9ad5199",
   "metadata": {},
   "outputs": [],
   "source": [
    "#-- DEFINE PATHS #--\n",
    "class1_paths = ['03 Moderate NPDR', '04 Severe NPDR', '05 PDR', \n",
    "                '06 Mild NPDR, with DME', '07 Moderate NPDR, with DME',\n",
    "                '08 Severe NPDR, with DME', '09 PDR, with DME']\n",
    "class2_paths = ['01 No DR', '02 Mild NPDR']\n",
    "ignore_paths = ['00 5-Field Images', '10 Ungradable']\n",
    "\n",
    "# LOADING DATA #\n",
    "data = []\n",
    "labels = []\n",
    "\n",
    "for path in class1_paths:\n",
    "    folder_path = os.path.join('Documents/Baysis',path)\n",
    "    for img_name in os.listdir(folder_path):\n",
    "        img_path = os.path.join(folder_path, img_name)\n",
    "        img = Image.open(img_path).resize((224,224))\n",
    "        img_array = np.array(img)/255.0\n",
    "        data.append(img_array)\n",
    "        labels.append(1) \n",
    "\n",
    "for paths in class2_paths:\n",
    "    folder_path = os.path.join('Documents/Baysis',path)\n",
    "    for img_name in os.listdir(folder_path):\n",
    "        img_path = os.path.join(folder_path, img_name)\n",
    "        img  = Image.open(img_path).resize((224,224))\n",
    "        img_array = np.array(img)/255.0\n",
    "        data.append(img_array)\n",
    "        labels.append(0)\n",
    "\n",
    "data=np.array(data)\n",
    "labels=np.array(labels)\n",
    "\n",
    "# class_1_count = np.sum(y_train == 1)  # Number of samples in Class 1\n",
    "# class_2_count = np.sum(y_train == 0)\n",
    "# print(f\"Class 1 (referable retinopathy) count: {class_1_count}\")\n",
    "# print(f\"Class 2 (non-referable retinopathy) count: {class_2_count}\")"
   ]
  },
  {
   "cell_type": "code",
   "execution_count": 3,
   "id": "bd3e5c0f-1495-42b1-be38-6330e24d3808",
   "metadata": {},
   "outputs": [
    {
     "data": {
      "image/png": "[encoded data removed]",
      "text/plain": [
       "<Figure size 640x480 with 1 Axes>"
      ]
     },
     "metadata": {},
     "output_type": "display_data"
    }
   ],
   "source": [
    "# CKECKING IMBALANCE #\n",
    "unique, counts = np.unique(labels,return_counts=True)\n",
    "plt.bar(unique,counts)\n",
    "plt.title('Class Distribution')\n",
    "plt.show()\n"
   ]
  },
  {
   "cell_type": "code",
   "execution_count": 13,
   "id": "fc373acc-63ca-4c42-9868-4fa2b06927d2",
   "metadata": {},
   "outputs": [],
   "source": [
    "# SPLITTING THE DATA TO TRAINING AND TESTING #\n",
    "x_train,x_test,y_train,y_test = train_test_split(data,labels,test_size = 0.2, stratify=labels,random_state=42)\n",
    "\n",
    "# AUGMENTATION #\n",
    "datagen = ImageDataGenerator(\n",
    "    rotation_range= 20,\n",
    "    width_shift_range=0.1,\n",
    "    height_shift_range =0.1,\n",
    "    horizontal_flip=True\n",
    ")"
   ]
  },
  {
   "cell_type": "code",
   "execution_count": null,
   "id": "63b94573-8b8d-4b6d-8b71-4d4ba0c65298",
   "metadata": {},
   "outputs": [
    {
     "name": "stdout",
     "output_type": "stream",
     "text": [
      "Epoch 1/10\n",
      "22/22 [==============================] - 32s 1s/step - loss: 0.6433 - accuracy: 0.8000 - val_loss: 0.4991 - val_accuracy: 0.8103\n",
      "Epoch 2/10\n",
      "22/22 [==============================] - 33s 1s/step - loss: 0.5120 - accuracy: 0.8086 - val_loss: 0.4910 - val_accuracy: 0.8103\n",
      "Epoch 3/10\n",
      "22/22 [==============================] - 34s 2s/step - loss: 0.5019 - accuracy: 0.8086 - val_loss: 0.4896 - val_accuracy: 0.8103\n",
      "Epoch 4/10\n",
      " 1/22 [>.............................] - ETA: 41s - loss: 0.4825 - accuracy: 0.8125"
     ]
    }
   ],
   "source": [
    "# MODEL BUILDING #\n",
    "model = models.Sequential([\n",
    "    layers.Conv2D(32, (3, 3), activation='relu', input_shape=(224, 224, 3)),\n",
    "    layers.MaxPooling2D((2, 2)),\n",
    "    layers.Conv2D(64, (3, 3), activation='relu'),\n",
    "    layers.MaxPooling2D((2, 2)),\n",
    "    layers.Conv2D(128, (3, 3), activation='relu'),\n",
    "    layers.MaxPooling2D((2, 2)),\n",
    "    layers.Flatten(),\n",
    "    layers.Dense(128, activation='relu'),\n",
    "    layers.Dropout(0.5),\n",
    "    layers.Dense(1, activation='sigmoid')\n",
    "])\n",
    "\n",
    "model.compile(optimizer='adam',loss='binary_crossentropy',metrics=['accuracy'])  #compiling the model\n",
    "\n",
    "history= model.fit(\n",
    "    datagen.flow(x_train,y_train,batch_size=32),\n",
    "    validation_data=(x_test,y_test),\n",
    "    epochs=10\n",
    ")\n",
    "\n",
    "plt.plot(history.history['accuracy'], label='Accuracy')\n",
    "plt.plot(history.history['val_accuracy'], label='Val Accuracy')\n",
    "plt.legend()\n",
    "plt.show()"
   ]
  },
  {
   "cell_type": "code",
   "execution_count": null,
   "id": "eafe7d65-585a-4102-9344-5d31b6dd8edd",
   "metadata": {},
   "outputs": [],
   "source": [
    "from tensorflow.keras.applications import VGG16\n",
    "from tensorflow.keras.models import Model\n",
    "from tensorflow.keras.layers import GlobalAveragePooling2D, Dense, Dropout\n",
    "\n",
    "base_model = VGG16(weights='imagenet', include_top=False, input_shape=(224, 224, 3))\n",
    "base_model.trainable = False\n",
    "\n",
    "x = base_model.output\n",
    "x = GlobalAveragePooling2D()(x)\n",
    "x = Dense(128, activation='relu')(x)\n",
    "x = Dropout(0.5)(x)\n",
    "predictions = Dense(1, activation='sigmoid')(x)\n",
    "\n",
    "model_tl = Model(inputs=base_model.input, outputs=predictions)\n",
    "model_tl.compile(optimizer='adam', loss='binary_crossentropy', metrics=['accuracy'])\n"
   ]
  },
  {
   "cell_type": "code",
   "execution_count": 9,
   "id": "68ee20cd-1856-4d18-8a65-b39a43ddd207",
   "metadata": {},
   "outputs": [
    {
     "ename": "NameError",
     "evalue": "name 'x_test' is not defined",
     "output_type": "error",
     "traceback": [
      "\u001b[0;31m---------------------------------------------------------------------------\u001b[0m",
      "\u001b[0;31mNameError\u001b[0m                                 Traceback (most recent call last)",
      "Cell \u001b[0;32mIn[9], line 4\u001b[0m\n\u001b[1;32m      1\u001b[0m \u001b[38;5;28;01mfrom\u001b[39;00m \u001b[38;5;21;01msklearn\u001b[39;00m\u001b[38;5;21;01m.\u001b[39;00m\u001b[38;5;21;01mmetrics\u001b[39;00m \u001b[38;5;28;01mimport\u001b[39;00m roc_curve, auc\n\u001b[1;32m      2\u001b[0m \u001b[38;5;28;01mimport\u001b[39;00m \u001b[38;5;21;01mmatplotlib\u001b[39;00m\u001b[38;5;21;01m.\u001b[39;00m\u001b[38;5;21;01mpyplot\u001b[39;00m \u001b[38;5;28;01mas\u001b[39;00m \u001b[38;5;21;01mplt\u001b[39;00m\n\u001b[0;32m----> 4\u001b[0m y_pred \u001b[38;5;241m=\u001b[39m model_tl\u001b[38;5;241m.\u001b[39mpredict(\u001b[43mx_test\u001b[49m)\u001b[38;5;241m.\u001b[39mravel()\n\u001b[1;32m      5\u001b[0m fpr, tpr, _ \u001b[38;5;241m=\u001b[39m roc_curve(y_test, y_pred)\n\u001b[1;32m      6\u001b[0m roc_auc \u001b[38;5;241m=\u001b[39m auc(fpr, tpr)\n",
      "\u001b[0;31mNameError\u001b[0m: name 'x_test' is not defined"
     ]
    }
   ],
   "source": [
    "from sklearn.metrics import roc_curve, auc\n",
    "import matplotlib.pyplot as plt\n",
    "\n",
    "y_pred = model_tl.predict(x_test).ravel()\n",
    "fpr, tpr, _ = roc_curve(y_test, y_pred)\n",
    "roc_auc = auc(fpr, tpr)\n",
    "\n",
    "plt.figure()\n",
    "plt.plot(fpr, tpr, color='darkorange', lw=2, label=f'ROC curve (area = {roc_auc:.2f})')\n",
    "plt.plot([0, 1], [0, 1], color='navy', lw=2, linestyle='--')\n",
    "plt.xlabel('False Positive Rate')\n",
    "plt.ylabel('True Positive Rate')\n",
    "plt.title('Receiver Operating Characteristic (ROC)')\n",
    "plt.legend(loc='lower right')\n",
    "plt.show()\n",
    "TN,FP,FN,TP = cm.ravel()"
   ]
  },
  {
   "cell_type": "code",
   "execution_count": 2,
   "id": "a8802c92-4f83-4bd8-84d8-7a786cb79fa1",
   "metadata": {},
   "outputs": [
    {
     "name": "stdout",
     "output_type": "stream",
     "text": [
      "   1: %history\n",
      "   2: %history -n\n"
     ]
    }
   ],
   "source": [
    "%history -n"
   ]
  }
 ],
 "metadata": {
  "kernelspec": {
   "display_name": "Python 3 (ipykernel)",
   "language": "python",
   "name": "python3"
  },
  "language_info": {
   "codemirror_mode": {
    "name": "ipython",
    "version": 3
   },
   "file_extension": ".py",
   "mimetype": "text/x-python",
   "name": "python",
   "nbconvert_exporter": "python",
   "pygments_lexer": "ipython3",
   "version": "3.8.10"
  }
 },
 "nbformat": 4,
 "nbformat_minor": 5
}
